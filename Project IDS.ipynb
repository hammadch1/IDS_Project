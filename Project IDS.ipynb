{
 "cells": [
  {
   "cell_type": "markdown",
   "metadata": {},
   "source": [
    "                                                          PROJECT: IDS\n",
    "\n",
    "Group Members:\n",
    "\n",
    "                Waleed Kamran (L1F17BSCS0328)\n",
    "                Muhammad Hammad Chaudhary (L1F17BSCS0499)\n",
    "                Ali Sehran (L1F17BSCS0344)\n",
    "\n",
    "Title:\tCar Price Prediction \n"
   ]
  },
  {
   "cell_type": "code",
   "execution_count": 9,
   "metadata": {},
   "outputs": [],
   "source": [
    "#Pre-Req\n",
    "\n",
    "import pandas as pd\n",
    "import numpy as np\n",
    "\n",
    "\n",
    "\n",
    "data=pd.read_csv(\"data.csv\")\n"
   ]
  },
  {
   "cell_type": "code",
   "execution_count": 28,
   "metadata": {},
   "outputs": [],
   "source": [
    "#Cleaning Data\n"
   ]
  },
  {
   "cell_type": "code",
   "execution_count": 29,
   "metadata": {},
   "outputs": [
    {
     "data": {
      "text/plain": [
       "11914"
      ]
     },
     "execution_count": 29,
     "metadata": {},
     "output_type": "execute_result"
    }
   ],
   "source": [
    "#Before \n",
    "len(data)"
   ]
  },
  {
   "cell_type": "code",
   "execution_count": 30,
   "metadata": {},
   "outputs": [],
   "source": [
    "data.dropna(subset=['Vehicle Style','Engine HP','Make'], inplace=True)\n"
   ]
  },
  {
   "cell_type": "code",
   "execution_count": 31,
   "metadata": {},
   "outputs": [
    {
     "data": {
      "text/plain": [
       "11845"
      ]
     },
     "execution_count": 31,
     "metadata": {},
     "output_type": "execute_result"
    }
   ],
   "source": [
    "#After\n",
    "len(data)\n",
    "\n"
   ]
  },
  {
   "cell_type": "markdown",
   "metadata": {},
   "source": [
    "Task-1: Which Vehicle Style contains the most cars?"
   ]
  },
  {
   "cell_type": "code",
   "execution_count": 32,
   "metadata": {},
   "outputs": [
    {
     "name": "stdout",
     "output_type": "stream",
     "text": [
      "Body Type Containing Most Cars :  Sedan\n",
      "Number Of Cars :  3016\n"
     ]
    }
   ],
   "source": [
    "type_Count=data.groupby(['Vehicle Style']).size().reset_index(name='Count')\n",
    "\n",
    "bodyTypeWithMostCars=type_Count.sort_values(by=['Count'],ascending=False).head(1).values\n",
    "\n",
    "print(\"Body Type Containing Most Cars : \", bodyTypeWithMostCars[0][0])\n",
    "print(\"Number Of Cars : \", bodyTypeWithMostCars[0][1])\n"
   ]
  },
  {
   "cell_type": "markdown",
   "metadata": {},
   "source": [
    "Task-2: Which horsepower cars are in the most demand?\n"
   ]
  },
  {
   "cell_type": "code",
   "execution_count": 33,
   "metadata": {},
   "outputs": [
    {
     "name": "stdout",
     "output_type": "stream",
     "text": [
      "Most Demanded HP Ranges from : 170.0  -  200.0\n"
     ]
    }
   ],
   "source": [
    "mostDemandedHP=data.groupby(['Engine HP']).size().reset_index(name='Count')\n",
    "\n",
    "mostDemandedHP=mostDemandedHP.sort_values(by=['Count'],ascending=False)\n",
    "\n",
    "mostDemandedHP.reset_index(drop=True, inplace=True)\n",
    "\n",
    "ranging_info=mostDemandedHP.head(2).values # Top 2\n",
    "\n",
    "lowerbound=ranging_info[0][0]\n",
    "\n",
    "upperbound=ranging_info[1][0]\n",
    "\n",
    "if(upperbound<lowerbound):\n",
    "    upperbound, lowerbound = lowerbound, upperbound\n",
    "    \n",
    "print(\"Most Demanded HP Ranges from :\",lowerbound,\" - \", upperbound)"
   ]
  },
  {
   "cell_type": "markdown",
   "metadata": {},
   "source": [
    "Task-3: Find out the average price of cars by each manufacturer?"
   ]
  },
  {
   "cell_type": "code",
   "execution_count": 34,
   "metadata": {},
   "outputs": [
    {
     "name": "stdout",
     "output_type": "stream",
     "text": [
      "Makers: Acura |  Avg Price: 34887.59\n",
      "Makers: Alfa Romeo |  Avg Price: 61600.0\n",
      "Makers: Aston Martin |  Avg Price: 197910.38\n",
      "Makers: Audi |  Avg Price: 53452.11\n",
      "Makers: BMW |  Avg Price: 61546.76\n",
      "Makers: Bentley |  Avg Price: 247169.32\n",
      "Makers: Bugatti |  Avg Price: 1757223.67\n",
      "Makers: Buick |  Avg Price: 28206.61\n",
      "Makers: Cadillac |  Avg Price: 56231.32\n",
      "Makers: Chevrolet |  Avg Price: 28292.14\n",
      "Makers: Chrysler |  Avg Price: 26722.96\n",
      "Makers: Dodge |  Avg Price: 22390.06\n",
      "Makers: FIAT |  Avg Price: 22206.02\n",
      "Makers: Ferrari |  Avg Price: 238218.84\n",
      "Makers: Ford |  Avg Price: 27393.42\n",
      "Makers: GMC |  Avg Price: 30493.3\n",
      "Makers: Genesis |  Avg Price: 46616.67\n",
      "Makers: HUMMER |  Avg Price: 36464.41\n",
      "Makers: Honda |  Avg Price: 26629.82\n",
      "Makers: Hyundai |  Avg Price: 24597.04\n",
      "Makers: Infiniti |  Avg Price: 42394.21\n",
      "Makers: Kia |  Avg Price: 25112.39\n",
      "Makers: Lamborghini |  Avg Price: 331567.31\n",
      "Makers: Land Rover |  Avg Price: 67823.22\n",
      "Makers: Lexus |  Avg Price: 47549.07\n",
      "Makers: Lincoln |  Avg Price: 42494.37\n",
      "Makers: Lotus |  Avg Price: 69188.28\n",
      "Makers: Maserati |  Avg Price: 114207.71\n",
      "Makers: Maybach |  Avg Price: 546221.88\n",
      "Makers: Mazda |  Avg Price: 20039.38\n",
      "Makers: McLaren |  Avg Price: 239805.0\n",
      "Makers: Mercedes-Benz |  Avg Price: 71537.81\n",
      "Makers: Mitsubishi |  Avg Price: 21232.26\n",
      "Makers: Nissan |  Avg Price: 28513.37\n",
      "Makers: Oldsmobile |  Avg Price: 11542.54\n",
      "Makers: Plymouth |  Avg Price: 3122.9\n",
      "Makers: Pontiac |  Avg Price: 19321.55\n",
      "Makers: Porsche |  Avg Price: 101622.4\n",
      "Makers: Rolls-Royce |  Avg Price: 351130.65\n",
      "Makers: Saab |  Avg Price: 27413.5\n",
      "Makers: Scion |  Avg Price: 19932.5\n",
      "Makers: Spyker |  Avg Price: 213323.33\n",
      "Makers: Subaru |  Avg Price: 24827.5\n",
      "Makers: Suzuki |  Avg Price: 17907.21\n",
      "Makers: Toyota |  Avg Price: 28974.18\n",
      "Makers: Volkswagen |  Avg Price: 28102.38\n",
      "Makers: Volvo |  Avg Price: 28541.16\n"
     ]
    }
   ],
   "source": [
    "GroupedData=data.groupby(['Make'])\n",
    "AveragePrices=GroupedData['MSRP'].mean()\n",
    "makers=list(AveragePrices.index.values)\n",
    "loopSize=len(makers)\n",
    "\n",
    "for index in range(loopSize):\n",
    "    print(\"Makers:\",makers[index],\"|  Avg Price:\",round(AveragePrices[index],2))\n",
    "\n"
   ]
  },
  {
   "cell_type": "markdown",
   "metadata": {},
   "source": [
    "Task-4: Figure out the most demanding car manufacturer present in the dataset?"
   ]
  },
  {
   "cell_type": "code",
   "execution_count": 35,
   "metadata": {},
   "outputs": [
    {
     "name": "stdout",
     "output_type": "stream",
     "text": [
      "Most Demanding Manufacturer :  Chevrolet\n",
      "Number Of Cars :  1117\n"
     ]
    }
   ],
   "source": [
    "type_Count=data.groupby(['Make']).size().reset_index(name='Count')\n",
    "\n",
    "mostDemandedManufac=type_Count.sort_values(by=['Count'],ascending=False).head(1).values\n",
    "\n",
    "print(\"Most Demanding Manufacturer : \", mostDemandedManufac[0][0])\n",
    "print(\"Number Of Cars : \", mostDemandedManufac[0][1])\n"
   ]
  },
  {
   "cell_type": "markdown",
   "metadata": {},
   "source": [
    "Task-5: What is the price of a car with certain features? (SVM)"
   ]
  },
  {
   "cell_type": "code",
   "execution_count": 59,
   "metadata": {},
   "outputs": [
    {
     "name": "stderr",
     "output_type": "stream",
     "text": [
      "<ipython-input-59-e6b54ece390c>:9: SettingWithCopyWarning: \n",
      "A value is trying to be set on a copy of a slice from a DataFrame.\n",
      "Try using .loc[row_indexer,col_indexer] = value instead\n",
      "\n",
      "See the caveats in the documentation: https://pandas.pydata.org/pandas-docs/stable/user_guide/indexing.html#returning-a-view-versus-a-copy\n",
      "  trimmedData[\"MSRP\"]=[round(x,-4) for x in trimmedData[\"MSRP\"]] #Round Off To Nearest\n"
     ]
    },
    {
     "data": {
      "text/html": [
       "<div>\n",
       "<style scoped>\n",
       "    .dataframe tbody tr th:only-of-type {\n",
       "        vertical-align: middle;\n",
       "    }\n",
       "\n",
       "    .dataframe tbody tr th {\n",
       "        vertical-align: top;\n",
       "    }\n",
       "\n",
       "    .dataframe thead th {\n",
       "        text-align: right;\n",
       "    }\n",
       "</style>\n",
       "<table border=\"1\" class=\"dataframe\">\n",
       "  <thead>\n",
       "    <tr style=\"text-align: right;\">\n",
       "      <th></th>\n",
       "      <th>Year</th>\n",
       "      <th>Engine HP</th>\n",
       "      <th>Number of Doors</th>\n",
       "      <th>MSRP</th>\n",
       "    </tr>\n",
       "  </thead>\n",
       "  <tbody>\n",
       "    <tr>\n",
       "      <th>0</th>\n",
       "      <td>2011</td>\n",
       "      <td>335.0</td>\n",
       "      <td>2.0</td>\n",
       "      <td>50000</td>\n",
       "    </tr>\n",
       "    <tr>\n",
       "      <th>1</th>\n",
       "      <td>2011</td>\n",
       "      <td>300.0</td>\n",
       "      <td>2.0</td>\n",
       "      <td>40000</td>\n",
       "    </tr>\n",
       "    <tr>\n",
       "      <th>2</th>\n",
       "      <td>2011</td>\n",
       "      <td>300.0</td>\n",
       "      <td>2.0</td>\n",
       "      <td>40000</td>\n",
       "    </tr>\n",
       "    <tr>\n",
       "      <th>3</th>\n",
       "      <td>2011</td>\n",
       "      <td>230.0</td>\n",
       "      <td>2.0</td>\n",
       "      <td>30000</td>\n",
       "    </tr>\n",
       "    <tr>\n",
       "      <th>4</th>\n",
       "      <td>2011</td>\n",
       "      <td>230.0</td>\n",
       "      <td>2.0</td>\n",
       "      <td>30000</td>\n",
       "    </tr>\n",
       "    <tr>\n",
       "      <th>...</th>\n",
       "      <td>...</td>\n",
       "      <td>...</td>\n",
       "      <td>...</td>\n",
       "      <td>...</td>\n",
       "    </tr>\n",
       "    <tr>\n",
       "      <th>11909</th>\n",
       "      <td>2012</td>\n",
       "      <td>300.0</td>\n",
       "      <td>4.0</td>\n",
       "      <td>50000</td>\n",
       "    </tr>\n",
       "    <tr>\n",
       "      <th>11910</th>\n",
       "      <td>2012</td>\n",
       "      <td>300.0</td>\n",
       "      <td>4.0</td>\n",
       "      <td>60000</td>\n",
       "    </tr>\n",
       "    <tr>\n",
       "      <th>11911</th>\n",
       "      <td>2012</td>\n",
       "      <td>300.0</td>\n",
       "      <td>4.0</td>\n",
       "      <td>50000</td>\n",
       "    </tr>\n",
       "    <tr>\n",
       "      <th>11912</th>\n",
       "      <td>2013</td>\n",
       "      <td>300.0</td>\n",
       "      <td>4.0</td>\n",
       "      <td>50000</td>\n",
       "    </tr>\n",
       "    <tr>\n",
       "      <th>11913</th>\n",
       "      <td>2006</td>\n",
       "      <td>221.0</td>\n",
       "      <td>4.0</td>\n",
       "      <td>30000</td>\n",
       "    </tr>\n",
       "  </tbody>\n",
       "</table>\n",
       "<p>8084 rows × 4 columns</p>\n",
       "</div>"
      ],
      "text/plain": [
       "       Year  Engine HP  Number of Doors   MSRP\n",
       "0      2011      335.0              2.0  50000\n",
       "1      2011      300.0              2.0  40000\n",
       "2      2011      300.0              2.0  40000\n",
       "3      2011      230.0              2.0  30000\n",
       "4      2011      230.0              2.0  30000\n",
       "...     ...        ...              ...    ...\n",
       "11909  2012      300.0              4.0  50000\n",
       "11910  2012      300.0              4.0  60000\n",
       "11911  2012      300.0              4.0  50000\n",
       "11912  2013      300.0              4.0  50000\n",
       "11913  2006      221.0              4.0  30000\n",
       "\n",
       "[8084 rows x 4 columns]"
      ]
     },
     "execution_count": 59,
     "metadata": {},
     "output_type": "execute_result"
    }
   ],
   "source": [
    "import pandas as pd\n",
    "import numpy as np\n",
    "data=pd.read_csv(\"data.csv\")\n",
    "\n",
    "#Cleaning \n",
    "data.dropna( inplace=True)\n",
    "\n",
    "trimmedData=data[[\"Year\",\"Engine HP\",\"Number of Doors\",\"MSRP\"]]\n",
    "trimmedData[\"MSRP\"]=[round(x,-4) for x in trimmedData[\"MSRP\"]] #Round Off To Nearest\n",
    "trimmedData"
   ]
  },
  {
   "cell_type": "code",
   "execution_count": 60,
   "metadata": {},
   "outputs": [],
   "source": [
    "features=trimmedData[[\"Year\",\"Engine HP\",\"Number of Doors\"]]\n",
    "output=trimmedData[[\"MSRP\"]]\n",
    "\n",
    "from sklearn.model_selection import train_test_split\n",
    "X_train, X_test, y_train, y_test = train_test_split(features, output, test_size=0.2, random_state=1)\n",
    "\n"
   ]
  },
  {
   "cell_type": "code",
   "execution_count": 62,
   "metadata": {},
   "outputs": [
    {
     "name": "stdout",
     "output_type": "stream",
     "text": [
      "Accuracy Score:\n",
      "0.5782312925170068\n"
     ]
    }
   ],
   "source": [
    "from sklearn.svm import SVC\n",
    "from sklearn import metrics\n",
    "svc=SVC(kernel='rbf', gamma=0.5) \n",
    "svc.fit(X_train,y_train.values.ravel())\n",
    "y_pred=svc.predict(X_test)\n",
    "print('Accuracy Score:')\n",
    "print(metrics.accuracy_score(y_test,y_pred))"
   ]
  },
  {
   "cell_type": "code",
   "execution_count": 63,
   "metadata": {},
   "outputs": [
    {
     "name": "stdout",
     "output_type": "stream",
     "text": [
      "Enter Year:2012\n",
      "Enter Horse Power:221\n",
      "Enter Number of Doors: 2\n",
      "Price for such car will be around:  40000\n"
     ]
    }
   ],
   "source": [
    "Year=int(input(\"Enter Year:\"))\n",
    "EngineHP=int(input(\"Enter Horse Power:\"))\n",
    "NoDoor=int(input(\"Enter Number of Doors: \"))\n",
    "\n",
    "\n",
    "toPredict=[]\n",
    "\n",
    "toPredict.append(Year)\n",
    "toPredict.append(EngineHP)\n",
    "toPredict.append(NoDoor)\n",
    "\n",
    "toPredict=np.array(toPredict)\n",
    "toPredict=toPredict.reshape(1, -1)\n",
    "\n",
    "y_pred_SVM=svc.predict(toPredict)\n",
    "print(\"Price for such car will be around: \", y_pred_SVM[0])"
   ]
  },
  {
   "cell_type": "markdown",
   "metadata": {},
   "source": [
    "Task-5: What is the price of a car with certain features? (Linear Regression)"
   ]
  },
  {
   "cell_type": "code",
   "execution_count": 64,
   "metadata": {},
   "outputs": [
    {
     "name": "stderr",
     "output_type": "stream",
     "text": [
      "<ipython-input-64-96ad3ab90ccf>:13: SettingWithCopyWarning: \n",
      "A value is trying to be set on a copy of a slice from a DataFrame.\n",
      "Try using .loc[row_indexer,col_indexer] = value instead\n",
      "\n",
      "See the caveats in the documentation: https://pandas.pydata.org/pandas-docs/stable/user_guide/indexing.html#returning-a-view-versus-a-copy\n",
      "  trimmedData[\"MSRP\"]=[round(x,-4) for x in trimmedData[\"MSRP\"]] #Round Off To Nearest\n"
     ]
    },
    {
     "data": {
      "text/plain": [
       "0.4344842415058747"
      ]
     },
     "execution_count": 64,
     "metadata": {},
     "output_type": "execute_result"
    }
   ],
   "source": [
    "\n",
    "import pandas as pd\n",
    "import numpy as np\n",
    "\n",
    "\n",
    "\n",
    "data=pd.read_csv(\"data.csv\")\n",
    "\n",
    "#Cleaning \n",
    "data.dropna( inplace=True)\n",
    "\n",
    "\n",
    "trimmedData=data[[\"Year\",\"Engine HP\",\"Number of Doors\",\"MSRP\"]]\n",
    "trimmedData[\"MSRP\"]=[round(x,-4) for x in trimmedData[\"MSRP\"]] #Round Off To Nearest\n",
    "trimmedData\n",
    "\n",
    "features=trimmedData[[\"Year\",\"Engine HP\",\"Number of Doors\"]]\n",
    "output=trimmedData[[\"MSRP\"]]\n",
    "\n",
    "# from sklearn.model_selection import train_test_split\n",
    "# X_train, X_test, y_train, y_test = train_test_split(features, output, test_size=0.2, random_state=1)\n",
    "\n",
    "\n",
    "from sklearn.linear_model import LinearRegression\n",
    "reg = LinearRegression().fit(features, output)\n",
    "reg.score(features, output)"
   ]
  },
  {
   "cell_type": "code",
   "execution_count": 65,
   "metadata": {},
   "outputs": [
    {
     "name": "stdout",
     "output_type": "stream",
     "text": [
      "Enter Year:2012\n",
      "Enter Horse Power:221\n",
      "Enter Number of Doors: 2\n",
      "Price for such car will be around:  34705.30285573432\n"
     ]
    }
   ],
   "source": [
    "Year=int(input(\"Enter Year:\"))\n",
    "EngineHP=int(input(\"Enter Horse Power:\"))\n",
    "NoDoor=int(input(\"Enter Number of Doors: \"))\n",
    "\n",
    "\n",
    "toPredict=[]\n",
    "\n",
    "toPredict.append(Year)\n",
    "toPredict.append(EngineHP)\n",
    "toPredict.append(NoDoor)\n",
    "\n",
    "toPredict=np.array(toPredict)\n",
    "toPredict=toPredict.reshape(1, -1)\n",
    "\n",
    "y_pred_LR=reg.predict(toPredict)\n",
    "print(\"Price for such car will be around: \", y_pred_LR[0][0])"
   ]
  },
  {
   "cell_type": "code",
   "execution_count": 66,
   "metadata": {},
   "outputs": [
    {
     "name": "stdout",
     "output_type": "stream",
     "text": [
      "Price Predicted Using SVM:  40000\n",
      "Price Predicted Using Linear Regression:  34705.30285573432\n"
     ]
    }
   ],
   "source": [
    "print (\"Price Predicted Using SVM: \",y_pred_SVM[0])\n",
    "print (\"Price Predicted Using Linear Regression: \",y_pred_LR[0][0])\n"
   ]
  },
  {
   "cell_type": "markdown",
   "metadata": {},
   "source": [
    "Task-6: What is the maker of the car given that certain features?"
   ]
  },
  {
   "cell_type": "code",
   "execution_count": 32,
   "metadata": {
    "scrolled": true
   },
   "outputs": [
    {
     "name": "stderr",
     "output_type": "stream",
     "text": [
      "<ipython-input-32-c5a6e3ff75d5>:12: SettingWithCopyWarning: \n",
      "A value is trying to be set on a copy of a slice from a DataFrame.\n",
      "Try using .loc[row_indexer,col_indexer] = value instead\n",
      "\n",
      "See the caveats in the documentation: https://pandas.pydata.org/pandas-docs/stable/user_guide/indexing.html#returning-a-view-versus-a-copy\n",
      "  trimmedData[\"MSRP\"]=[round(x,-4) for x in trimmedData[\"MSRP\"]] #Round Off To Nearest\n",
      "<ipython-input-32-c5a6e3ff75d5>:18: SettingWithCopyWarning: \n",
      "A value is trying to be set on a copy of a slice from a DataFrame.\n",
      "Try using .loc[row_indexer,col_indexer] = value instead\n",
      "\n",
      "See the caveats in the documentation: https://pandas.pydata.org/pandas-docs/stable/user_guide/indexing.html#returning-a-view-versus-a-copy\n",
      "  trimmedData[\"Make\"] = LabelEncoder().fit_transform(trimmedData[\"Make\"])\n"
     ]
    }
   ],
   "source": [
    "from sklearn.preprocessing import LabelEncoder\n",
    "import pandas as pd\n",
    "import numpy as np\n",
    "\n",
    "\n",
    "\n",
    "data=pd.read_csv(\"data.csv\")\n",
    "\n",
    "#Cleaning \n",
    "data.dropna( inplace=True)\n",
    "trimmedData=data[[\"Make\",\"Year\",\"Engine HP\",\"Number of Doors\",\"MSRP\"]]\n",
    "trimmedData[\"MSRP\"]=[round(x,-4) for x in trimmedData[\"MSRP\"]] #Round Off To Nearest\n",
    "\n",
    "\n",
    "\n",
    "#Enconding for categorical Data\n",
    "copy_Make=trimmedData[\"Make\"]\n",
    "trimmedData[\"Make\"] = LabelEncoder().fit_transform(trimmedData[\"Make\"])\n",
    "\n",
    "#Generating Key\n",
    "\n",
    "key=list(map(list,zip(copy_Make.values, trimmedData[\"Make\"])))\n",
    "key=pd.DataFrame(data=key, columns=[\"maker\", \"encoded label\"])\n",
    "key.drop_duplicates(inplace=True)\n",
    "key.set_index('maker',inplace=True)\n",
    "\n",
    "\n",
    "features=trimmedData[[\"Year\",\"Engine HP\",\"Number of Doors\",\"MSRP\"]]\n",
    "\n",
    "output=trimmedData[\"Make\"]\n",
    "\n",
    "from sklearn.model_selection import train_test_split\n",
    "X_train, X_test, y_train, y_test = train_test_split(features, output, test_size=0.2, random_state=1)\n"
   ]
  },
  {
   "cell_type": "code",
   "execution_count": 33,
   "metadata": {},
   "outputs": [
    {
     "name": "stdout",
     "output_type": "stream",
     "text": [
      "Accuracy Score:\n",
      "0.7482993197278912\n"
     ]
    }
   ],
   "source": [
    "from sklearn.svm import SVC\n",
    "from sklearn import metrics\n",
    "svc=SVC(kernel='rbf', gamma=0.5) \n",
    "svc.fit(X_train,y_train.values.ravel())\n",
    "y_pred=svc.predict(X_test)\n",
    "print('Accuracy Score:')\n",
    "print(metrics.accuracy_score(y_test,y_pred))"
   ]
  },
  {
   "cell_type": "code",
   "execution_count": 47,
   "metadata": {},
   "outputs": [
    {
     "name": "stdout",
     "output_type": "stream",
     "text": [
      "Enter Year:2006\n",
      "Enter Horse Power:200\n",
      "Enter Number of Doors: 4\n",
      "Enter MSRP(format- XX,000): 30000\n",
      "Maker for such car will be :  Mercedes-Benz\n"
     ]
    }
   ],
   "source": [
    "Year=int(input(\"Enter Year:\"))\n",
    "EngineHP=int(input(\"Enter Horse Power:\"))\n",
    "NoDoor=int(input(\"Enter Number of Doors: \"))\n",
    "MSPR=int(input(\"Enter MSRP(format- XX,000): \"))\n",
    "\n",
    "toPredict=[]\n",
    "\n",
    "toPredict.append(Year)\n",
    "toPredict.append(EngineHP)\n",
    "toPredict.append(NoDoor)\n",
    "toPredict.append(MSPR)\n",
    "\n",
    "toPredict=np.array(toPredict)\n",
    "toPredict=toPredict.reshape(1, -1)\n",
    "\n",
    "y_pred_SVM=svc.predict(toPredict)\n",
    "ans=key[key['encoded label']==y_pred_SVM[0]].index.values[0]\n",
    "print(\"Maker for such car will be : \", ans)"
   ]
  }
 ],
 "metadata": {
  "kernelspec": {
   "display_name": "Python 3",
   "language": "python",
   "name": "python3"
  },
  "language_info": {
   "codemirror_mode": {
    "name": "ipython",
    "version": 3
   },
   "file_extension": ".py",
   "mimetype": "text/x-python",
   "name": "python",
   "nbconvert_exporter": "python",
   "pygments_lexer": "ipython3",
   "version": "3.8.5"
  }
 },
 "nbformat": 4,
 "nbformat_minor": 4
}
